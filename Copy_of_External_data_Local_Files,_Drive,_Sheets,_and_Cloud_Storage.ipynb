{
  "cells": [
    {
      "cell_type": "markdown",
      "metadata": {
        "id": "view-in-github",
        "colab_type": "text"
      },
      "source": [
        "<a href=\"https://colab.research.google.com/github/Harshkrishnan/0to100/blob/main/Copy_of_External_data_Local_Files%2C_Drive%2C_Sheets%2C_and_Cloud_Storage.ipynb\" target=\"_parent\"><img src=\"https://colab.research.google.com/assets/colab-badge.svg\" alt=\"Open In Colab\"/></a>"
      ]
    },
    {
      "cell_type": "markdown",
      "metadata": {
        "id": "eAhpOZKTx5uc"
      },
      "source": [
        "**Calculate the Perimeter and Area of different Shapes.**"
      ]
    },
    {
      "cell_type": "code",
      "execution_count": null,
      "metadata": {
        "colab": {
          "base_uri": "https://localhost:8080/"
        },
        "id": "OBy3DxNh4-qP",
        "outputId": "0916bb34-3786-41fc-a36a-b92cb450bc69"
      },
      "outputs": [
        {
          "output_type": "stream",
          "name": "stdout",
          "text": [
            "Welcome to Area-Perimeter calculator\n",
            "\n",
            "MAIN MENU\n",
            "1. Calculate Perimeter\n",
            "2. Calculate Area\n",
            "3. Exit\n"
          ]
        }
      ],
      "source": [
        "# defining functions  \n",
        "def p_circle(radius):  \n",
        "    para = 2 * 3.14 * radius  \n",
        "    print(\"Perimeter of Circle:\", para)  \n",
        "  \n",
        "def p_rectangle(height, width):  \n",
        "    para = 2 * (height + width)  \n",
        "    print(\"Perimeter of Rectangle:\", para)  \n",
        "  \n",
        "def p_square(side):  \n",
        "    para = 4 * side  \n",
        "    print(\"Perimeter of Square:\", para) \n",
        "\n",
        "def p_triangle(side):\n",
        "    para = (side + base + side)\n",
        "    print(\"Perimeter of Triangle:\", para) \n",
        "  \n",
        "def a_circle(radius):  \n",
        "    area = 3.14 * radius * radius  \n",
        "    print(\"Area of Circle:\", area)  \n",
        "  \n",
        "def a_rectangle(height, width):  \n",
        "    area = height * width  \n",
        "    print(\"Area of Rectangle:\", area)  \n",
        "  \n",
        "def a_square(side):  \n",
        "    area = side * side  \n",
        "    print(\"Area of Square:\", area)\n",
        "\n",
        "def a_triangle(side):\n",
        "    area = 1/2 * (base * height)\n",
        "    print(\"Area of Triangle:\", area)\n",
        "  \n",
        "# printing the starting line  \n",
        "print(\"Welcome to Area-Perimeter calculator\")  \n",
        "  \n",
        "# creating options  \n",
        "while True:  \n",
        "    print(\"\\nMAIN MENU\")  \n",
        "    print(\"1. Calculate Perimeter\")  \n",
        "    print(\"2. Calculate Area\")  \n",
        "    print(\"3. Exit\")  \n",
        "    choice1 = int(input(\"Enter the Choice:\"))  \n",
        "  \n",
        "    if choice1 == 1:  \n",
        "        print(\"\\nCALCULATE PERIMETER\")  \n",
        "        print(\"1. Circle\")  \n",
        "        print(\"2. Rectangle\")  \n",
        "        print(\"3. Square\")\n",
        "        print(\"4. Triangle\")  \n",
        "        print(\"5. Exit\")  \n",
        "        choice2 = int(input(\"Enter the Choice:\"))  \n",
        "  \n",
        "        if choice2 == 1:  \n",
        "            radius = int(input(\"Enter Radius of Circle:\"))  \n",
        "            p_circle(radius)  \n",
        "              \n",
        "        elif choice2 == 2:  \n",
        "            height = int(input(\"Enter Height of Rectangle:\"))  \n",
        "            width = int(input(\"Enter Width of Rectangle:\"))  \n",
        "            p_rectangle(height, width)  \n",
        "              \n",
        "        elif choice2 == 3:  \n",
        "            side = int(input(\"Enter Side of Square:\"))  \n",
        "            p_square(side)\n",
        "\n",
        "        elif choice2 == 4:\n",
        "            base = int(input(\"Enter Base of Triangle:\"))\n",
        "            side = int(input(\"Enter side1 of Triangle:\"))\n",
        "            side = int(input(\"Enter side2 of Triangle:\"))\n",
        "            p_triangle(side)  \n",
        "  \n",
        "        elif choice2 == 5:\n",
        "           break  \n",
        "              \n",
        "        else:  \n",
        "            print(\"Oops! Incorrect Choice.\")  \n",
        "      \n",
        "    elif choice1 == 2:  \n",
        "        print(\"\\nCALCULATE AREA\")  \n",
        "        print(\"1. Circle\")  \n",
        "        print(\"2. Rectangle\")  \n",
        "        print(\"3. Square\") \n",
        "        print(\"4. Triangle\") \n",
        "        print(\"5. Exit\")  \n",
        "        choice3 = int(input(\"Enter the Choice:\"))  \n",
        "  \n",
        "        if choice3 == 1:  \n",
        "            radius = int(input(\"Enter Radius of Circle:\"))  \n",
        "            a_circle(radius)  \n",
        "              \n",
        "        elif choice3 == 2:  \n",
        "            height = int(input(\"Enter Height of Rectangle:\"))  \n",
        "            width = int(input(\"Enter Width of Rectangle:\"))  \n",
        "            a_rectangle(height, width)  \n",
        "              \n",
        "        elif choice3 == 3:  \n",
        "            side = int(input(\"Enter Side of Square:\"))  \n",
        "            a_square(side) \n",
        "\n",
        "        elif choice3 == 4:\n",
        "            base = int(input(\"Enter base of Triangle:\"))\n",
        "            height = int(input(\"Enter height of Triangle:\"))\n",
        "            a_triangle(side)\n",
        "              \n",
        "  \n",
        "        elif choice3 == 5:  \n",
        "            break  \n",
        "              \n",
        "        else:  \n",
        "            print(\"Oops! Incorrect Choice.\")  \n",
        "      \n",
        "    elif choice1 == 5:\n",
        "      break  \n",
        "      \n",
        "    else:  \n",
        "        print(\"Oops! Incorrect Choice.\")"
      ]
    }
  ],
  "metadata": {
    "colab": {
      "collapsed_sections": [],
      "name": "Copy of External data: Local Files, Drive, Sheets, and Cloud Storage",
      "provenance": [],
      "include_colab_link": true
    },
    "kernelspec": {
      "display_name": "Python 3",
      "name": "python3"
    }
  },
  "nbformat": 4,
  "nbformat_minor": 0
}